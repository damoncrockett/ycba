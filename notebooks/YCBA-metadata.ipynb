{
 "cells": [
  {
   "cell_type": "code",
   "execution_count": 335,
   "metadata": {},
   "outputs": [],
   "source": [
    "import xml.etree.ElementTree as ET\n",
    "import glob,os\n",
    "import pandas as pd\n",
    "import os"
   ]
  },
  {
   "cell_type": "code",
   "execution_count": 311,
   "metadata": {},
   "outputs": [],
   "source": [
    "DIR = \"/Users/damoncrockett/ivpy-datasets/ycba/metadata/\""
   ]
  },
  {
   "cell_type": "code",
   "execution_count": 312,
   "metadata": {},
   "outputs": [],
   "source": [
    "lidofiles = glob.glob(os.path.join(DIR,\"*.xml\"))"
   ]
  },
  {
   "cell_type": "code",
   "execution_count": 313,
   "metadata": {},
   "outputs": [],
   "source": [
    "ns = {'lido':'http://www.lido-schema.org','OA':'http://www.openarchives.org/OAI/2.0/'}"
   ]
  },
  {
   "cell_type": "code",
   "execution_count": 314,
   "metadata": {},
   "outputs": [],
   "source": [
    "cols = [\n",
    "    'Genre',\n",
    "    'Object name',\n",
    "    'Classification',\n",
    "    'medium',\n",
    "    'support',\n",
    "    'subjectConcept'\n",
    "]"
   ]
  },
  {
   "cell_type": "code",
   "execution_count": 319,
   "metadata": {},
   "outputs": [],
   "source": [
    "def lidoparse(lidofile):\n",
    "    datarow = dict.fromkeys(cols)\n",
    "    \n",
    "    tree = ET.parse(lidofile)\n",
    "    root = tree.getroot()\n",
    "    \n",
    "    # metadata\n",
    "    GetRecord = root.find('OA:GetRecord',ns)\n",
    "    record = GetRecord.find('OA:record',ns)\n",
    "    metadata = record.find('OA:metadata',ns)\n",
    "    \n",
    "    # descriptive metadata\n",
    "    lido = metadata.find('lido:lido',ns)\n",
    "    descriptiveMetadata = lido.find('lido:descriptiveMetadata',ns)\n",
    "    \n",
    "    # main descriptive metadata categories\n",
    "    objectClassificationWrap = descriptiveMetadata.find('lido:objectClassificationWrap',ns)\n",
    "    objectIdentificationWrap = descriptiveMetadata.find('lido:objectIdentificationWrap',ns)\n",
    "    eventWrap = descriptiveMetadata.find('lido:eventWrap',ns)\n",
    "    objectRelationWrap = descriptiveMetadata.find('lido:objectRelationWrap',ns)\n",
    "    \n",
    "    #----object classification\n",
    "    objectWorkTypeWrap = objectClassificationWrap.find('lido:objectWorkTypeWrap',ns)\n",
    "    classificationWrap = objectClassificationWrap.find('lido:classificationWrap',ns)\n",
    "    \n",
    "    #--------object work types\n",
    "    objectWorkTypes = objectWorkTypeWrap.findall('lido:objectWorkType',ns)    \n",
    "    for objectWorkType in objectWorkTypes:\n",
    "        conceptID = objectWorkType.find('lido:conceptID',ns).get('{http://www.lido-schema.org}type')\n",
    "        term = objectWorkType.find('lido:term',ns).text\n",
    "        if conceptID in cols:\n",
    "            datarow[conceptID] = term\n",
    "        \n",
    "    #--------classification\n",
    "    classifications = classificationWrap.findall('lido:classification',ns)    \n",
    "    for classification in classifications:\n",
    "        conceptID = classification.find('lido:conceptID',ns).get('{http://www.lido-schema.org}type')\n",
    "        term = classification.find('lido:term',ns).text\n",
    "        if conceptID in cols:\n",
    "            datarow[conceptID] = term\n",
    "    \n",
    "    #----object identification [OMITTED]\n",
    "        \n",
    "    #----event [MOSTLY OMITTED]\n",
    "    eventSet = eventWrap.find('lido:eventSet',ns)\n",
    "    event = eventSet.find('lido:event',ns)\n",
    "    eventMaterialsTech = event.find('lido:eventMaterialsTech',ns)\n",
    "    materialsTech = eventMaterialsTech.find('lido:materialsTech',ns)\n",
    "    \n",
    "    #--------term materials tech\n",
    "    termMaterialsTechs = materialsTech.findall('lido:termMaterialsTech',ns)\n",
    "    for termMaterialsTech in termMaterialsTechs:\n",
    "        conceptID = termMaterialsTech.find('lido:conceptID',ns).get('{http://www.lido-schema.org}type')\n",
    "        term = termMaterialsTech.find('lido:term',ns).text\n",
    "        if conceptID in cols:\n",
    "            datarow[conceptID] = term\n",
    "    \n",
    "    #----object relation [CHECK WHETHER MULTIPLE SUBJECTS WITHIN SET]\n",
    "    subjectWrap = objectRelationWrap.find('lido:subjectWrap',ns)\n",
    "    subjectSet = subjectWrap.find('lido:subjectSet',ns)\n",
    "    subject = subjectSet.find('lido:subject',ns)\n",
    "    \n",
    "    #--------subject concepts\n",
    "    subjectConcepts = subject.findall('lido:subjectConcept',ns)    \n",
    "    \n",
    "    subjectConceptsList = []\n",
    "    for subjectConcept in subjectConcepts:\n",
    "        term = subjectConcept.find('lido:term',ns).text\n",
    "        subjectConceptsList.append(term)\n",
    "        \n",
    "    datarow['subjectConcept'] = ','.join(subjectConceptsList)\n",
    "    \n",
    "    return datarow"
   ]
  },
  {
   "cell_type": "code",
   "execution_count": 324,
   "metadata": {},
   "outputs": [],
   "source": [
    "df = pd.DataFrame(columns=cols)"
   ]
  },
  {
   "cell_type": "code",
   "execution_count": 325,
   "metadata": {},
   "outputs": [],
   "source": [
    "n = len(lidofiles)"
   ]
  },
  {
   "cell_type": "code",
   "execution_count": 326,
   "metadata": {},
   "outputs": [],
   "source": [
    "for i in range(n):\n",
    "    try:\n",
    "        df.loc[i] = lidoparse(lidofiles[i])\n",
    "    except Exception as e:\n",
    "        print e"
   ]
  },
  {
   "cell_type": "code",
   "execution_count": 328,
   "metadata": {},
   "outputs": [
    {
     "name": "stdout",
     "output_type": "stream",
     "text": [
      "<class 'pandas.core.frame.DataFrame'>\n",
      "Int64Index: 31262 entries, 0 to 31261\n",
      "Data columns (total 6 columns):\n",
      "Genre             19286 non-null object\n",
      "Object name       20316 non-null object\n",
      "Classification    31262 non-null object\n",
      "medium            15628 non-null object\n",
      "support           19007 non-null object\n",
      "subjectConcept    31262 non-null object\n",
      "dtypes: object(6)\n",
      "memory usage: 1.7+ MB\n"
     ]
    }
   ],
   "source": [
    "df.info()"
   ]
  },
  {
   "cell_type": "code",
   "execution_count": 334,
   "metadata": {},
   "outputs": [],
   "source": [
    "df['datafile'] = lidofiles"
   ]
  },
  {
   "cell_type": "code",
   "execution_count": 338,
   "metadata": {},
   "outputs": [],
   "source": [
    "PRE = '/Users/damoncrockett/ivpy-datasets/ycba/images/'\n",
    "df['imagefile'] = [PRE+os.path.basename(item)[:-4]+\".jpg\" for item in df.datafile]"
   ]
  },
  {
   "cell_type": "code",
   "execution_count": 339,
   "metadata": {},
   "outputs": [],
   "source": [
    "df.to_csv(\"/Users/damoncrockett/ivpy-datasets/ycba/metadata.csv\",index=False,encoding='utf-8')"
   ]
  },
  {
   "cell_type": "markdown",
   "metadata": {},
   "source": [
    "### Work"
   ]
  },
  {
   "cell_type": "code",
   "execution_count": 288,
   "metadata": {},
   "outputs": [
    {
     "name": "stdout",
     "output_type": "stream",
     "text": [
      "{http://www.openarchives.org/OAI/2.0/}responseDate\n",
      "{http://www.openarchives.org/OAI/2.0/}request\n",
      "{http://www.openarchives.org/OAI/2.0/}GetRecord\n"
     ]
    }
   ],
   "source": [
    "tree = ET.parse(lidofiles[0])\n",
    "root = tree.getroot()\n",
    "for child in root:\n",
    "    print child.tag"
   ]
  },
  {
   "cell_type": "code",
   "execution_count": 289,
   "metadata": {},
   "outputs": [
    {
     "name": "stdout",
     "output_type": "stream",
     "text": [
      "{http://www.openarchives.org/OAI/2.0/}record\n"
     ]
    }
   ],
   "source": [
    "tmp = root.find('OA:GetRecord',ns)\n",
    "for child in tmp:\n",
    "    print child.tag"
   ]
  },
  {
   "cell_type": "code",
   "execution_count": 290,
   "metadata": {},
   "outputs": [
    {
     "name": "stdout",
     "output_type": "stream",
     "text": [
      "{http://www.openarchives.org/OAI/2.0/}header\n",
      "{http://www.openarchives.org/OAI/2.0/}metadata\n"
     ]
    }
   ],
   "source": [
    "tmp = tmp.find('OA:record',ns)\n",
    "for child in tmp:\n",
    "    print child.tag"
   ]
  },
  {
   "cell_type": "code",
   "execution_count": 291,
   "metadata": {},
   "outputs": [
    {
     "name": "stdout",
     "output_type": "stream",
     "text": [
      "{http://www.lido-schema.org}lido\n"
     ]
    }
   ],
   "source": [
    "tmp = tmp.find('OA:metadata',ns)\n",
    "for child in tmp:\n",
    "    print child.tag"
   ]
  },
  {
   "cell_type": "code",
   "execution_count": 292,
   "metadata": {},
   "outputs": [
    {
     "name": "stdout",
     "output_type": "stream",
     "text": [
      "{http://www.lido-schema.org}lidoRecID\n",
      "{http://www.lido-schema.org}category\n",
      "{http://www.lido-schema.org}descriptiveMetadata\n",
      "{http://www.lido-schema.org}administrativeMetadata\n"
     ]
    }
   ],
   "source": [
    "tmp = tmp.find('lido:lido',ns)\n",
    "for child in tmp:\n",
    "    print child.tag"
   ]
  },
  {
   "cell_type": "code",
   "execution_count": 293,
   "metadata": {},
   "outputs": [
    {
     "name": "stdout",
     "output_type": "stream",
     "text": [
      "{http://www.lido-schema.org}objectClassificationWrap\n",
      "{http://www.lido-schema.org}objectIdentificationWrap\n",
      "{http://www.lido-schema.org}eventWrap\n",
      "{http://www.lido-schema.org}objectRelationWrap\n"
     ]
    }
   ],
   "source": [
    "tmp = tmp.find('lido:descriptiveMetadata',ns)\n",
    "for child in tmp:\n",
    "    print child.tag"
   ]
  },
  {
   "cell_type": "code",
   "execution_count": 294,
   "metadata": {},
   "outputs": [
    {
     "name": "stdout",
     "output_type": "stream",
     "text": [
      "{http://www.lido-schema.org}subjectWrap\n",
      "{http://www.lido-schema.org}relatedWorksWrap\n"
     ]
    }
   ],
   "source": [
    "tmp = tmp.find('lido:objectRelationWrap',ns)\n",
    "for child in tmp:\n",
    "    print child.tag"
   ]
  },
  {
   "cell_type": "code",
   "execution_count": 295,
   "metadata": {},
   "outputs": [
    {
     "name": "stdout",
     "output_type": "stream",
     "text": [
      "{http://www.lido-schema.org}subjectSet\n"
     ]
    }
   ],
   "source": [
    "tmp = tmp.find('lido:subjectWrap',ns)\n",
    "for child in tmp:\n",
    "    print child.tag"
   ]
  },
  {
   "cell_type": "code",
   "execution_count": 296,
   "metadata": {},
   "outputs": [
    {
     "name": "stdout",
     "output_type": "stream",
     "text": [
      "{http://www.lido-schema.org}subject\n"
     ]
    }
   ],
   "source": [
    "tmp = tmp.find('lido:subjectSet',ns)\n",
    "for child in tmp:\n",
    "    print child.tag"
   ]
  },
  {
   "cell_type": "code",
   "execution_count": 297,
   "metadata": {},
   "outputs": [
    {
     "name": "stdout",
     "output_type": "stream",
     "text": [
      "{http://www.lido-schema.org}subjectConcept\n",
      "{http://www.lido-schema.org}subjectConcept\n",
      "{http://www.lido-schema.org}subjectConcept\n",
      "{http://www.lido-schema.org}subjectConcept\n"
     ]
    }
   ],
   "source": [
    "tmp = tmp.find('lido:subject',ns)\n",
    "for child in tmp:\n",
    "    print child.tag"
   ]
  }
 ],
 "metadata": {
  "kernelspec": {
   "display_name": "Python 2",
   "language": "python",
   "name": "python2"
  },
  "language_info": {
   "codemirror_mode": {
    "name": "ipython",
    "version": 2
   },
   "file_extension": ".py",
   "mimetype": "text/x-python",
   "name": "python",
   "nbconvert_exporter": "python",
   "pygments_lexer": "ipython2",
   "version": "2.7.10"
  }
 },
 "nbformat": 4,
 "nbformat_minor": 2
}
