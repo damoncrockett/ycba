{
 "cells": [
  {
   "cell_type": "code",
   "execution_count": 44,
   "metadata": {},
   "outputs": [],
   "source": [
    "import pandas as pd\n",
    "import numpy as np\n",
    "from PIL import Image"
   ]
  },
  {
   "cell_type": "code",
   "execution_count": 32,
   "metadata": {},
   "outputs": [],
   "source": [
    "import sys\n",
    "sys.path.append('/Users/damoncrockett/ivpy-test/src')\n",
    "from ivpy import attach,show,montage,compose"
   ]
  },
  {
   "cell_type": "code",
   "execution_count": 3,
   "metadata": {},
   "outputs": [],
   "source": [
    "df = pd.read_csv(\"/Users/damoncrockett/ivpy-datasets/ycba/metadata.csv\")"
   ]
  },
  {
   "cell_type": "code",
   "execution_count": 4,
   "metadata": {},
   "outputs": [
    {
     "name": "stdout",
     "output_type": "stream",
     "text": [
      "<class 'pandas.core.frame.DataFrame'>\n",
      "RangeIndex: 31262 entries, 0 to 31261\n",
      "Data columns (total 8 columns):\n",
      "Genre             19286 non-null object\n",
      "Object name       20316 non-null object\n",
      "Classification    31262 non-null object\n",
      "medium            15628 non-null object\n",
      "support           19007 non-null object\n",
      "subjectConcept    16604 non-null object\n",
      "datafile          31262 non-null object\n",
      "imagefile         31262 non-null object\n",
      "dtypes: object(8)\n",
      "memory usage: 1.9+ MB\n"
     ]
    }
   ],
   "source": [
    "df.info()"
   ]
  },
  {
   "cell_type": "markdown",
   "metadata": {},
   "source": [
    "## Tag Space"
   ]
  },
  {
   "cell_type": "code",
   "execution_count": 35,
   "metadata": {},
   "outputs": [],
   "source": [
    "taglists = [str(item).split(\",\") for item in df.subjectConcept]\n",
    "taglists = [item for sublist in taglists for item in sublist]\n",
    "tagset = set(taglists)"
   ]
  },
  {
   "cell_type": "code",
   "execution_count": 36,
   "metadata": {},
   "outputs": [],
   "source": [
    "X = pd.DataFrame(columns=tagset)"
   ]
  },
  {
   "cell_type": "code",
   "execution_count": 37,
   "metadata": {},
   "outputs": [],
   "source": [
    "cols = list(X.columns)\n",
    "n = len(cols)"
   ]
  },
  {
   "cell_type": "code",
   "execution_count": 38,
   "metadata": {},
   "outputs": [
    {
     "data": {
      "text/plain": [
       "'\\nfor i in df.index:\\n    if np.random.binomial(1,0.001)==1:\\n        print i\\n    \\n    subjectConcept = df.subjectConcept.loc[i]\\n    subjectConcept = str(subjectConcept).split(\",\")\\n    \\n    datarow = np.zeros(n)\\n    if subjectConcept!=\\'nan\\':\\n        for item in subjectConcept:\\n            idx = cols.index(item)\\n            datarow[idx] = 1\\n    \\n    X.loc[i] = datarow\\n'"
      ]
     },
     "execution_count": 38,
     "metadata": {},
     "output_type": "execute_result"
    }
   ],
   "source": [
    "for i in df.index:\n",
    "    if np.random.binomial(1,0.001)==1:\n",
    "        print i\n",
    "    \n",
    "    subjectConcept = df.subjectConcept.loc[i]\n",
    "    subjectConcept = str(subjectConcept).split(\",\")\n",
    "    \n",
    "    datarow = np.zeros(n)\n",
    "    if subjectConcept!='nan':\n",
    "        for item in subjectConcept:\n",
    "            idx = cols.index(item)\n",
    "            datarow[idx] = 1\n",
    "    \n",
    "    X.loc[i] = datarow"
   ]
  },
  {
   "cell_type": "code",
   "execution_count": 39,
   "metadata": {},
   "outputs": [],
   "source": [
    "X.to_csv(\"/Users/damoncrockett/ivpy-datasets/ycba/tagspace.csv\",index=False)"
   ]
  }
 ],
 "metadata": {
  "kernelspec": {
   "display_name": "Python 2",
   "language": "python",
   "name": "python2"
  },
  "language_info": {
   "codemirror_mode": {
    "name": "ipython",
    "version": 2
   },
   "file_extension": ".py",
   "mimetype": "text/x-python",
   "name": "python",
   "nbconvert_exporter": "python",
   "pygments_lexer": "ipython2",
   "version": "2.7.10"
  }
 },
 "nbformat": 4,
 "nbformat_minor": 2
}
